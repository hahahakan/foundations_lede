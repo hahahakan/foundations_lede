{
 "cells": [
  {
   "cell_type": "markdown",
   "metadata": {},
   "source": [
    "# Mine Safety\n",
    "\n",
    "We're interested in [US mine safety](https://arlweb.msha.gov/drs/drshome.htm), thank goodness we can search for these things."
   ]
  },
  {
   "cell_type": "markdown",
   "metadata": {},
   "source": [
    "## Setup: Import what you'll need to search and scrape and Selenium"
   ]
  },
  {
   "cell_type": "code",
   "execution_count": 2,
   "metadata": {},
   "outputs": [],
   "source": [
    "from selenium import webdriver\n",
    "from selenium.webdriver.common.keys import Keys\n",
    "from selenium.webdriver.support.ui import Select\n",
    "from selenium.webdriver.support.ui import WebDriverWait\n",
    "import pandas as pd"
   ]
  },
  {
   "cell_type": "markdown",
   "metadata": {},
   "source": [
    "## Starting from `https://arlweb.msha.gov/drs/drshome.htm`, search for every operator with 'dirt' in their name, including abandoned mines.\n",
    "\n",
    "> - *Tip: If you can't make an element work using name, class or ID, try to use the XPath*"
   ]
  },
  {
   "cell_type": "code",
   "execution_count": 3,
   "metadata": {},
   "outputs": [],
   "source": [
    "driver = webdriver.Chrome()"
   ]
  },
  {
   "cell_type": "code",
   "execution_count": 4,
   "metadata": {},
   "outputs": [],
   "source": [
    "driver.get(\"https://arlweb.msha.gov/drs/drshome.htm\")"
   ]
  },
  {
   "cell_type": "code",
   "execution_count": 5,
   "metadata": {},
   "outputs": [],
   "source": [
    "operator_search = driver.find_element_by_name(\"OperSearch\")\n",
    "operator_search.send_keys(\"dirt\")"
   ]
  },
  {
   "cell_type": "code",
   "execution_count": 6,
   "metadata": {},
   "outputs": [],
   "source": [
    "button = driver.find_element_by_xpath('//*[@id=\"content\"]/form[1]/table/tbody/tr[7]/td[3]/input[1]')\n",
    "button.click()"
   ]
  },
  {
   "cell_type": "markdown",
   "metadata": {},
   "source": [
    "## Scrape the results page, saving it as `dirt-operators.csv`\n",
    "\n",
    "> - *Tip: Think about what each row in your dataset will be, and start by looping through that*\n",
    "> - *Tip: Printing is cool and good! Print everything! Move it into a dictionary later.*\n",
    "> - *Tip: If you don't want a row, think about what's in the row that makes it different. You can use an `if` statement or list slicing to skip the ones you aren't interested in.*\n",
    "> - *Tip: Make sure your dictionary and your loop variable have DIFFERENT NAMES*\n",
    "> - *Tip: After you've made your dictionary (and printed it, of course), you'll want to add it to your list of rows*\n",
    "> - *Tip: Be sure to import pandas to convert it to a dataframe*\n",
    "> - *Tip: Make sure you don't include the index when saving your dataframe*"
   ]
  },
  {
   "cell_type": "markdown",
   "metadata": {},
   "source": [
    "### Hopefully you know that each `tr` is supposed to be a row of your data. What is the index of the first row element that is actually a result?\n",
    "\n",
    "> - *Tip: `.text` will help you here.*\n",
    "> - *Tip: You aren't interesting in annotations or anything, just mines and where they are from*\n",
    "> - *Tip: Using `print(\"-----\")` will help you keep track of different rows*\n",
    "> - *Tip: If you have a list called `animals`, `animals[2:]` will skip the first two and start with the third. You can use this to skip ahead to the 'good' data if you want*"
   ]
  },
  {
   "cell_type": "code",
   "execution_count": 7,
   "metadata": {},
   "outputs": [
    {
     "name": "stdout",
     "output_type": "stream",
     "text": [
      "-----------\n",
      "ID State Operator Mine Name Type CM* Status Commodity More Info\n",
      "-----------\n",
      "3503598\n",
      "OR  Newberg Rock & Dirt   Newberg Rock & Dirt Surface M  Active  Crushed, Broken Stone NEC \n",
      "-----------\n",
      "1401575\n",
      "KS  Bender Sand & Dirt   BENDER SAND & DIRT Surface M  Intermittent  Construction Sand and Gravel \n",
      "-----------\n",
      "5001797\n",
      "AK  Dirt Company   Bush Pilot Surface M  Intermittent  Construction Sand and Gravel \n",
      "-----------\n",
      "2103723\n",
      "MN  Dirt Doctor Inc   Rock Lake Plant Surface M  Intermittent  Construction Sand and Gravel \n",
      "-----------\n",
      "2103914\n",
      "MN  Dirt Work Specialists LLC   Astec Plant Surface M  Intermittent  Construction Sand and Gravel \n",
      "-----------\n",
      "4104757\n",
      "TX  Dirt Works   Portable #1 Surface M  Intermittent  Construction Sand and Gravel \n",
      "-----------\n",
      "0801306\n",
      "FL  Holley Dirt Company, Inc   River Road Pit Surface M  Active  Sand, Common \n",
      "-----------\n",
      "3901432\n",
      "SD  Krueger Brothers Gravel & Dirt   PORTABLE SCREENER Surface M  Intermittent  Construction Sand and Gravel \n",
      "-----------\n",
      "3609624\n",
      "PA  M R Dirt   Forbes Pit Surface M  Temporarily Idled  Construction Sand and Gravel \n",
      "-----------\n",
      "3609931\n",
      "PA  M.R. Dirt Inc.   Camptown Quarry Surface M  Intermittent  Dimension Stone NEC \n",
      "-----------\n",
      "1519799\n",
      "KY  P B Dirt Movers, Inc   Fedscreek Surface Surface C  Active  Coal (Bituminous) \n",
      "-----------\n",
      "4407379\n",
      "VA  P B Dirt Movers, Inc.   No. 3 Surface C  New Mine   \n",
      "-----------\n",
      "4407296\n",
      "VA  PB Dirt Movers   Mine No. 6 Underground C  Temporarily Idled  Coal (Bituminous) \n",
      "-----------\n",
      "0203332\n",
      "AZ  Prescott Dirt, LLC   Sandretto Drive Surface M  Intermittent  Construction Sand and Gravel \n",
      "-----------\n",
      "2901986\n",
      "NM  R D Blankenship Dirt Work LLC   R D BLANKENSHIP DIRT WORK Surface M  Active  Construction Sand and Gravel \n",
      "-----------\n",
      "0801417\n",
      "FL  Sand & Dirt, Inc   Molino Pit Surface M  Active  Sand, Common \n",
      "-----------\n",
      "4300768\n",
      "VT  SIMPSON DIRTWORX LLC   Pettibone Jaw Crusher Surface M  Intermittent  Construction Sand and Gravel \n",
      "-----------\n",
      "4300776\n",
      "VT  SIMPSON DIRTWORX LLC   Chieftan 1400 Surface M  Intermittent  Construction Sand and Gravel \n",
      "-----------\n",
      "2302283\n",
      "MO  Spry's Dirt & Gravel, Inc.   Mike's Money Pit Surface M  Intermittent  Construction Sand and Gravel \n",
      "-----------\n",
      "2103518\n",
      "MN  Vogt Dirt Service   Crusher Surface M  Intermittent  Construction Sand and Gravel \n",
      "-----------\n",
      "Total Number of Mines Found:  20\n"
     ]
    }
   ],
   "source": [
    "#find all of the groups of content on the page\n",
    "all_rows = driver.find_elements_by_tag_name(\"tr\")\n",
    "\n",
    "for row in all_rows[6:]:\n",
    "    print(\"-----------\")\n",
    "    print(row.text)"
   ]
  },
  {
   "cell_type": "markdown",
   "metadata": {},
   "source": [
    "### Loop through each operator result, printing its name\n",
    "\n",
    "> - *Tip: If you have a list called `animals`, `animals[2:]` will skip the first two and start with the third.*\n",
    "> - *Tip: You can use list slicing or an `if` statement to skip the non-data row(s). List slicing is probably easier, even if you aren't comfortable with it.*\n",
    "> - *Tip: or honestly you can use `try` and `except` if you know how it works.*\n",
    "> - *Tip: Once you have the \"right\" rows of data, you're going to be looking for a certain tag inside*\n",
    "> - *Tip: Sometimes you can't say \"give me this class,\" and instead you have to say \"give me all of the `div` elements, and then give me the third one.\"*"
   ]
  },
  {
   "cell_type": "code",
   "execution_count": 8,
   "metadata": {},
   "outputs": [
    {
     "name": "stdout",
     "output_type": "stream",
     "text": [
      "Newberg Rock & Dirt  \n",
      "Bender Sand & Dirt  \n",
      "Dirt Company  \n",
      "Dirt Doctor Inc  \n",
      "Dirt Work Specialists LLC  \n",
      "Dirt Works  \n",
      "Holley Dirt Company, Inc  \n",
      "Krueger Brothers Gravel & Dirt  \n",
      "M R Dirt  \n",
      "M.R. Dirt Inc.  \n",
      "P B Dirt Movers, Inc  \n",
      "P B Dirt Movers, Inc.  \n",
      "PB Dirt Movers  \n",
      "Prescott Dirt, LLC  \n",
      "R D Blankenship Dirt Work LLC  \n",
      "Sand & Dirt, Inc  \n",
      "SIMPSON DIRTWORX LLC  \n",
      "SIMPSON DIRTWORX LLC  \n",
      "Spry's Dirt & Gravel, Inc.  \n",
      "Vogt Dirt Service  \n"
     ]
    }
   ],
   "source": [
    "all_rows = driver.find_elements_by_tag_name(\"tr\")\n",
    "\n",
    "for row in all_rows[7:27:]:\n",
    "    #print(row.text)\n",
    "    all_operators = row.find_elements_by_tag_name(\"td\")\n",
    "    print(all_operators[2].text)"
   ]
  },
  {
   "cell_type": "markdown",
   "metadata": {},
   "source": [
    "### Loop through each operator result, printing its ID\n",
    "\n",
    "There should be ONE code per row, and NO empty rows between them."
   ]
  },
  {
   "cell_type": "code",
   "execution_count": 9,
   "metadata": {},
   "outputs": [
    {
     "name": "stdout",
     "output_type": "stream",
     "text": [
      "3503598\n",
      "1401575\n",
      "5001797\n",
      "2103723\n",
      "2103914\n",
      "4104757\n",
      "0801306\n",
      "3901432\n",
      "3609624\n",
      "3609931\n",
      "1519799\n",
      "4407379\n",
      "4407296\n",
      "0203332\n",
      "2901986\n",
      "0801417\n",
      "4300768\n",
      "4300776\n",
      "2302283\n",
      "2103518\n"
     ]
    }
   ],
   "source": [
    "all_rows = driver.find_elements_by_tag_name(\"tr\")\n",
    "\n",
    "for row in all_rows[7:27:]:\n",
    "    #print(row.text)\n",
    "    all_operators = row.find_elements_by_tag_name(\"td\")\n",
    "    print(all_operators[0].text)"
   ]
  },
  {
   "cell_type": "code",
   "execution_count": 10,
   "metadata": {},
   "outputs": [],
   "source": [
    "#for row in all_rows[7:27:]:\n",
    "#    all_operator_rows_dict = {}\n",
    "#    all_operators = row.find_elements_by_tag_name(\"td\")\n",
    "#    for operators in all_operators:\n",
    "#        print(operators.text)\n",
    "        #row = operator.text\n",
    "    \n",
    "#print(all_operator_rows_dict)\n",
    "\n",
    " "
   ]
  },
  {
   "cell_type": "markdown",
   "metadata": {},
   "source": [
    "## Saving the results\n",
    "\n",
    "### Loop through each `tr` to create a list of dictionaries\n",
    "\n",
    "Each dictionary must contain\n",
    "\n",
    "- Operator ID\n",
    "- Operator name\n",
    "- Mine name\n",
    "- State\n",
    "- Mine type\n",
    "- Coal or metal\n",
    "- Status\n",
    "- Commodity\n",
    "\n",
    "Create a new dictionary for each row.\n",
    "\n",
    "> - *Tip: Start with an empty dictionary, then add the keys one at a time like we did during class*\n",
    "> - *Tip: You might want to save all of the cells in a variable, then use indexes to get the second, third, fourth, etc.*\n",
    "> - *Tip: I know you already skipped a bunch of rows already, but one of them still might be bad! Which one is it? How can you skip it? You might need to slice out some of the end of your list, too. Use `print` to help you debug, or just look at the page closely.*\n",
    "> - *Tip: Or, if you did the other homework already, `try` / `except` is also an option*"
   ]
  },
  {
   "cell_type": "code",
   "execution_count": 11,
   "metadata": {
    "scrolled": true
   },
   "outputs": [],
   "source": [
    "mine_rows = []\n",
    "for row in all_rows[7:-1]:\n",
    "    cells = row.find_elements_by_tag_name(\"td\")\n",
    "    rows_dict = {}\n",
    "    \n",
    "    column_id = all_operators[0]\n",
    "    rows_dict[\"column_id\"] = cells[0].text  \n",
    "\n",
    "    state_id = all_operators[1]\n",
    "    rows_dict[\"state_id\"]= cells[1].text\n",
    "\n",
    "    operator_id = all_operators[2]\n",
    "    rows_dict[\"operator_id\"] = cells[2].text  \n",
    "    \n",
    "    mine_id = all_operators[3]\n",
    "    rows_dict[\"mine_id\"] = cells[3].text  \n",
    "    \n",
    "    type_id = all_operators[4]\n",
    "    rows_dict[\"type_id\"] = cells[4].text  \n",
    "\n",
    "    cm_id = all_operators[5]\n",
    "    rows_dict[\"cm_id\"] = cells[5].text  \n",
    "    \n",
    "    status_id = all_operators[6]\n",
    "    rows_dict[\"status_id\"] = cells[6].text  \n",
    "\n",
    "    commodity_id = all_operators[7]\n",
    "    rows_dict[\"commodity_id\"] = cells[7].text  \n",
    "    \n",
    "    mine_rows.append(rows_dict)\n",
    "       \n",
    "#for mine_row in mine_rows:\n",
    "#    print(mine_row.text)\n",
    "                "
   ]
  },
  {
   "cell_type": "markdown",
   "metadata": {},
   "source": [
    "### Save that to a CSV named `dirt-operators.csv`"
   ]
  },
  {
   "cell_type": "code",
   "execution_count": 12,
   "metadata": {},
   "outputs": [
    {
     "data": {
      "text/html": [
       "<div>\n",
       "<style scoped>\n",
       "    .dataframe tbody tr th:only-of-type {\n",
       "        vertical-align: middle;\n",
       "    }\n",
       "\n",
       "    .dataframe tbody tr th {\n",
       "        vertical-align: top;\n",
       "    }\n",
       "\n",
       "    .dataframe thead th {\n",
       "        text-align: right;\n",
       "    }\n",
       "</style>\n",
       "<table border=\"1\" class=\"dataframe\">\n",
       "  <thead>\n",
       "    <tr style=\"text-align: right;\">\n",
       "      <th></th>\n",
       "      <th>cm_id</th>\n",
       "      <th>column_id</th>\n",
       "      <th>commodity_id</th>\n",
       "      <th>mine_id</th>\n",
       "      <th>operator_id</th>\n",
       "      <th>state_id</th>\n",
       "      <th>status_id</th>\n",
       "      <th>type_id</th>\n",
       "    </tr>\n",
       "  </thead>\n",
       "  <tbody>\n",
       "    <tr>\n",
       "      <th>0</th>\n",
       "      <td>M</td>\n",
       "      <td>3503598</td>\n",
       "      <td>Crushed, Broken Stone NEC</td>\n",
       "      <td>Newberg Rock &amp; Dirt</td>\n",
       "      <td>Newberg Rock &amp; Dirt</td>\n",
       "      <td>OR</td>\n",
       "      <td>Active</td>\n",
       "      <td>Surface</td>\n",
       "    </tr>\n",
       "    <tr>\n",
       "      <th>1</th>\n",
       "      <td>M</td>\n",
       "      <td>1401575</td>\n",
       "      <td>Construction Sand and Gravel</td>\n",
       "      <td>BENDER SAND &amp; DIRT</td>\n",
       "      <td>Bender Sand &amp; Dirt</td>\n",
       "      <td>KS</td>\n",
       "      <td>Intermittent</td>\n",
       "      <td>Surface</td>\n",
       "    </tr>\n",
       "    <tr>\n",
       "      <th>2</th>\n",
       "      <td>M</td>\n",
       "      <td>5001797</td>\n",
       "      <td>Construction Sand and Gravel</td>\n",
       "      <td>Bush Pilot</td>\n",
       "      <td>Dirt Company</td>\n",
       "      <td>AK</td>\n",
       "      <td>Intermittent</td>\n",
       "      <td>Surface</td>\n",
       "    </tr>\n",
       "    <tr>\n",
       "      <th>3</th>\n",
       "      <td>M</td>\n",
       "      <td>2103723</td>\n",
       "      <td>Construction Sand and Gravel</td>\n",
       "      <td>Rock Lake Plant</td>\n",
       "      <td>Dirt Doctor Inc</td>\n",
       "      <td>MN</td>\n",
       "      <td>Intermittent</td>\n",
       "      <td>Surface</td>\n",
       "    </tr>\n",
       "    <tr>\n",
       "      <th>4</th>\n",
       "      <td>M</td>\n",
       "      <td>2103914</td>\n",
       "      <td>Construction Sand and Gravel</td>\n",
       "      <td>Astec Plant</td>\n",
       "      <td>Dirt Work Specialists LLC</td>\n",
       "      <td>MN</td>\n",
       "      <td>Intermittent</td>\n",
       "      <td>Surface</td>\n",
       "    </tr>\n",
       "  </tbody>\n",
       "</table>\n",
       "</div>"
      ],
      "text/plain": [
       "  cm_id column_id                   commodity_id              mine_id  \\\n",
       "0    M    3503598     Crushed, Broken Stone NEC   Newberg Rock & Dirt   \n",
       "1    M    1401575  Construction Sand and Gravel    BENDER SAND & DIRT   \n",
       "2    M    5001797  Construction Sand and Gravel            Bush Pilot   \n",
       "3    M    2103723  Construction Sand and Gravel       Rock Lake Plant   \n",
       "4    M    2103914  Construction Sand and Gravel           Astec Plant   \n",
       "\n",
       "                   operator_id state_id      status_id  type_id  \n",
       "0        Newberg Rock & Dirt        OR         Active   Surface  \n",
       "1         Bender Sand & Dirt        KS   Intermittent   Surface  \n",
       "2               Dirt Company        AK   Intermittent   Surface  \n",
       "3            Dirt Doctor Inc        MN   Intermittent   Surface  \n",
       "4  Dirt Work Specialists LLC        MN   Intermittent   Surface  "
      ]
     },
     "execution_count": 12,
     "metadata": {},
     "output_type": "execute_result"
    }
   ],
   "source": [
    "df = pd.DataFrame(mine_rows)\n",
    "df.head()"
   ]
  },
  {
   "cell_type": "code",
   "execution_count": 139,
   "metadata": {},
   "outputs": [],
   "source": [
    "df.to_csv(\"dirt-operators.csv\", index=False)"
   ]
  },
  {
   "cell_type": "markdown",
   "metadata": {},
   "source": [
    "### Open the CSV file and examine the first few.\n",
    "\n",
    "Make sure you didn't save that extra weird unnamed index column."
   ]
  },
  {
   "cell_type": "code",
   "execution_count": 138,
   "metadata": {},
   "outputs": [
    {
     "data": {
      "text/html": [
       "<div>\n",
       "<style scoped>\n",
       "    .dataframe tbody tr th:only-of-type {\n",
       "        vertical-align: middle;\n",
       "    }\n",
       "\n",
       "    .dataframe tbody tr th {\n",
       "        vertical-align: top;\n",
       "    }\n",
       "\n",
       "    .dataframe thead th {\n",
       "        text-align: right;\n",
       "    }\n",
       "</style>\n",
       "<table border=\"1\" class=\"dataframe\">\n",
       "  <thead>\n",
       "    <tr style=\"text-align: right;\">\n",
       "      <th></th>\n",
       "      <th>cm_id</th>\n",
       "      <th>column_id</th>\n",
       "      <th>commodity_id</th>\n",
       "      <th>mine_id</th>\n",
       "      <th>operator_id</th>\n",
       "      <th>state_id</th>\n",
       "      <th>status_id</th>\n",
       "      <th>type_id</th>\n",
       "    </tr>\n",
       "  </thead>\n",
       "  <tbody>\n",
       "    <tr>\n",
       "      <th>0</th>\n",
       "      <td>M</td>\n",
       "      <td>3503598</td>\n",
       "      <td>Crushed, Broken Stone NEC</td>\n",
       "      <td>Newberg Rock &amp; Dirt</td>\n",
       "      <td>Newberg Rock &amp; Dirt</td>\n",
       "      <td>OR</td>\n",
       "      <td>Active</td>\n",
       "      <td>Surface</td>\n",
       "    </tr>\n",
       "  </tbody>\n",
       "</table>\n",
       "</div>"
      ],
      "text/plain": [
       "  cm_id column_id                commodity_id              mine_id  \\\n",
       "0    M    3503598  Crushed, Broken Stone NEC   Newberg Rock & Dirt   \n",
       "\n",
       "             operator_id state_id status_id  type_id  \n",
       "0  Newberg Rock & Dirt        OR    Active   Surface  "
      ]
     },
     "execution_count": 138,
     "metadata": {},
     "output_type": "execute_result"
    }
   ],
   "source": [
    "df.head(1)"
   ]
  },
  {
   "cell_type": "code",
   "execution_count": null,
   "metadata": {},
   "outputs": [],
   "source": []
  }
 ],
 "metadata": {
  "kernelspec": {
   "display_name": "Python 3",
   "language": "python",
   "name": "python3"
  },
  "language_info": {
   "codemirror_mode": {
    "name": "ipython",
    "version": 3
   },
   "file_extension": ".py",
   "mimetype": "text/x-python",
   "name": "python",
   "nbconvert_exporter": "python",
   "pygments_lexer": "ipython3",
   "version": "3.6.3"
  }
 },
 "nbformat": 4,
 "nbformat_minor": 2
}
